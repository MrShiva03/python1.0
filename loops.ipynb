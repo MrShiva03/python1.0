{
 "cells": [
  {
   "cell_type": "code",
   "execution_count": 1,
   "metadata": {},
   "outputs": [
    {
     "name": "stdout",
     "output_type": "stream",
     "text": [
      "['apple', 'banana', 'orange', 'kiwi', 'pear']\n"
     ]
    }
   ],
   "source": [
    "fruits = ['apple', 'banana', 'orange', 'kiwi', 'pear']\n",
    "print(fruits)"
   ]
  },
  {
   "cell_type": "code",
   "execution_count": 5,
   "metadata": {},
   "outputs": [
    {
     "name": "stdout",
     "output_type": "stream",
     "text": [
      "apple 🤦‍♀️banana 🤦‍♀️orange 🤦‍♀️kiwi 🤦‍♀️pear 🤦‍♀️"
     ]
    }
   ],
   "source": [
    "for x in fruits:\n",
    "    print(x, end=' 🤦‍♀️')"
   ]
  },
  {
   "cell_type": "code",
   "execution_count": 8,
   "metadata": {},
   "outputs": [
    {
     "name": "stdout",
     "output_type": "stream",
     "text": [
      "s 🤔🤔🤢🤔😆🤢🤔h 🤔🤔🤢🤔😆🤢🤔i 🤔🤔🤢🤔😆🤢🤔v 🤔🤔🤢🤔😆🤢🤔a 🤔🤔🤢🤔😆🤢🤔m 🤔🤔🤢🤔😆🤢🤔i 🤔🤔🤢🤔😆🤢🤔s 🤔🤔🤢🤔😆🤢🤔h 🤔🤔🤢🤔😆🤢🤔r 🤔🤔🤢🤔😆🤢🤔a 🤔🤔🤢🤔😆🤢🤔"
     ]
    }
   ],
   "source": [
    "name=\"shivamishra\"\n",
    "for i in name:\n",
    "    print(i, end=\" 🤔🤔🤢🤔😆🤢🤔\")"
   ]
  },
  {
   "cell_type": "code",
   "execution_count": 11,
   "metadata": {},
   "outputs": [
    {
     "name": "stdout",
     "output_type": "stream",
     "text": [
      "shiva mishra\n",
      "shiva mishra\n",
      "shiva mishra\n",
      "shiva mishra\n",
      "shiva mishra\n"
     ]
    }
   ],
   "source": [
    "for name in range(5):\n",
    "    print(\"shiva mishra\")"
   ]
  },
  {
   "cell_type": "code",
   "execution_count": 13,
   "metadata": {},
   "outputs": [
    {
     "name": "stdout",
     "output_type": "stream",
     "text": [
      "sum : 50\n",
      "sum of 20 and 30 is 50\n",
      "sum of 20 and 30 is 50\n"
     ]
    }
   ],
   "source": [
    "a= 20\n",
    "b= 30\n",
    "sum = a+b\n",
    "print(\"sum :\",sum)\n",
    "print(\"sum of\",a, \"and\", b,\"is\",sum)\n",
    "print(f\"sum of {a} and {b} is {sum}\")"
   ]
  },
  {
   "cell_type": "code",
   "execution_count": 14,
   "metadata": {},
   "outputs": [
    {
     "name": "stdout",
     "output_type": "stream",
     "text": [
      "15 * 1 = 15\n",
      "15 * 2 = 30\n",
      "15 * 3 = 45\n",
      "15 * 4 = 60\n",
      "15 * 5 = 75\n",
      "15 * 6 = 90\n",
      "15 * 7 = 105\n",
      "15 * 8 = 120\n",
      "15 * 9 = 135\n",
      "15 * 10 = 150\n"
     ]
    }
   ],
   "source": [
    "for i in range(1,11):\n",
    "    print (f\"15 * {i} = {15*i}\")"
   ]
  },
  {
   "cell_type": "code",
   "execution_count": null,
   "metadata": {},
   "outputs": [],
   "source": []
  }
 ],
 "metadata": {
  "kernelspec": {
   "display_name": "base",
   "language": "python",
   "name": "python3"
  },
  "language_info": {
   "codemirror_mode": {
    "name": "ipython",
    "version": 3
   },
   "file_extension": ".py",
   "mimetype": "text/x-python",
   "name": "python",
   "nbconvert_exporter": "python",
   "pygments_lexer": "ipython3",
   "version": "3.12.4"
  }
 },
 "nbformat": 4,
 "nbformat_minor": 2
}
