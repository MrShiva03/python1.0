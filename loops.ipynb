{
 "cells": [
  {
   "cell_type": "code",
   "execution_count": 1,
   "metadata": {},
   "outputs": [
    {
     "name": "stdout",
     "output_type": "stream",
     "text": [
      "['apple', 'banana', 'orange', 'kiwi', 'pear']\n"
     ]
    }
   ],
   "source": [
    "fruits = ['apple', 'banana', 'orange', 'kiwi', 'pear']\n",
    "print(fruits)"
   ]
  },
  {
   "cell_type": "code",
   "execution_count": 5,
   "metadata": {},
   "outputs": [
    {
     "name": "stdout",
     "output_type": "stream",
     "text": [
      "apple 🤦‍♀️banana 🤦‍♀️orange 🤦‍♀️kiwi 🤦‍♀️pear 🤦‍♀️"
     ]
    }
   ],
   "source": [
    "for x in fruits:\n",
    "    print(x, end=' 🤦‍♀️')"
   ]
  },
  {
   "cell_type": "code",
   "execution_count": 8,
   "metadata": {},
   "outputs": [
    {
     "name": "stdout",
     "output_type": "stream",
     "text": [
      "s 🤔🤔🤢🤔😆🤢🤔h 🤔🤔🤢🤔😆🤢🤔i 🤔🤔🤢🤔😆🤢🤔v 🤔🤔🤢🤔😆🤢🤔a 🤔🤔🤢🤔😆🤢🤔m 🤔🤔🤢🤔😆🤢🤔i 🤔🤔🤢🤔😆🤢🤔s 🤔🤔🤢🤔😆🤢🤔h 🤔🤔🤢🤔😆🤢🤔r 🤔🤔🤢🤔😆🤢🤔a 🤔🤔🤢🤔😆🤢🤔"
     ]
    }
   ],
   "source": [
    "name=\"shivamishra\"\n",
    "for i in name:\n",
    "    print(i, end=\" 🤔🤔🤢🤔😆🤢🤔\")"
   ]
  },
  {
   "cell_type": "code",
   "execution_count": 11,
   "metadata": {},
   "outputs": [
    {
     "name": "stdout",
     "output_type": "stream",
     "text": [
      "shiva mishra\n",
      "shiva mishra\n",
      "shiva mishra\n",
      "shiva mishra\n",
      "shiva mishra\n"
     ]
    }
   ],
   "source": [
    "for name in range(5):\n",
    "    print(\"shiva mishra\")"
   ]
  },
  {
   "cell_type": "code",
   "execution_count": 13,
   "metadata": {},
   "outputs": [
    {
     "name": "stdout",
     "output_type": "stream",
     "text": [
      "sum : 50\n",
      "sum of 20 and 30 is 50\n",
      "sum of 20 and 30 is 50\n"
     ]
    }
   ],
   "source": [
    "a= 20\n",
    "b= 30\n",
    "sum = a+b\n",
    "print(\"sum :\",sum)\n",
    "print(\"sum of\",a, \"and\", b,\"is\",sum)\n",
    "print(f\"sum of {a} and {b} is {sum}\")"
   ]
  },
  {
   "cell_type": "code",
   "execution_count": 14,
   "metadata": {},
   "outputs": [
    {
     "name": "stdout",
     "output_type": "stream",
     "text": [
      "15 * 1 = 15\n",
      "15 * 2 = 30\n",
      "15 * 3 = 45\n",
      "15 * 4 = 60\n",
      "15 * 5 = 75\n",
      "15 * 6 = 90\n",
      "15 * 7 = 105\n",
      "15 * 8 = 120\n",
      "15 * 9 = 135\n",
      "15 * 10 = 150\n"
     ]
    }
   ],
   "source": [
    "for i in range(1,11):\n",
    "    print (f\"15 * {i} = {15*i}\")"
   ]
  },
  {
   "cell_type": "markdown",
   "metadata": {},
   "source": [
    "## BREAK AND CONTINUE"
   ]
  },
  {
   "cell_type": "code",
   "execution_count": 2,
   "metadata": {},
   "outputs": [
    {
     "name": "stdout",
     "output_type": "stream",
     "text": [
      "apple\n",
      "mango\n",
      "banana\n"
     ]
    }
   ],
   "source": [
    "fruits = [\"apple\", 'mango', 'banana', 'tomato','pine apple', 'kiwi','pear']\n",
    "for fruit in fruits:\n",
    "    if fruit == \"tomato\":\n",
    "        break\n",
    "    print(fruit)"
   ]
  },
  {
   "cell_type": "code",
   "execution_count": 3,
   "metadata": {},
   "outputs": [
    {
     "name": "stdout",
     "output_type": "stream",
     "text": [
      "apple\n",
      "mango\n",
      "banana\n",
      "pine apple\n",
      "kiwi\n",
      "pear\n"
     ]
    }
   ],
   "source": [
    "fruits = [\"apple\", 'mango', 'banana', 'tomato','pine apple', 'kiwi','pear']\n",
    "for fruit in fruits:\n",
    "    if fruit == \"tomato\":\n",
    "        continue\n",
    "    print(fruit)"
   ]
  },
  {
   "cell_type": "code",
   "execution_count": 4,
   "metadata": {},
   "outputs": [
    {
     "name": "stdout",
     "output_type": "stream",
     "text": [
      "s\n",
      "h\n",
      "i\n"
     ]
    }
   ],
   "source": [
    "fruits = [\"s\", 'h', 'i', 'v','a',]\n",
    "for fruit in fruits:\n",
    "    if fruit == \"v\":\n",
    "        break\n",
    "    print(fruit)"
   ]
  },
  {
   "cell_type": "code",
   "execution_count": 5,
   "metadata": {},
   "outputs": [
    {
     "name": "stdout",
     "output_type": "stream",
     "text": [
      "0.s\n",
      "1.h\n",
      "2.i\n",
      "3.v\n",
      "4.a\n"
     ]
    }
   ],
   "source": [
    "for i, v in enumerate(fruits):\n",
    "    print(f'{i}.{v}') "
   ]
  },
  {
   "cell_type": "code",
   "execution_count": 6,
   "metadata": {},
   "outputs": [
    {
     "name": "stdout",
     "output_type": "stream",
     "text": [
      "0: pen\n",
      "1: pencil\n",
      "2: eraser\n",
      "3: sharpner\n",
      "4: scale\n",
      "5: book\n",
      "6: bag\n",
      "7: bottle\n"
     ]
    }
   ],
   "source": [
    "items = ['pen','pencil', 'eraser','sharpner','scale','book','bag','bottle','lunchbox','tiffin']\n",
    "for i, v in enumerate(items):\n",
    "    if i == 8:\n",
    "        break\n",
    "    print(f'{i}: {v}')"
   ]
  },
  {
   "cell_type": "code",
   "execution_count": null,
   "metadata": {},
   "outputs": [],
   "source": []
  }
 ],
 "metadata": {
  "kernelspec": {
   "display_name": "base",
   "language": "python",
   "name": "python3"
  },
  "language_info": {
   "codemirror_mode": {
    "name": "ipython",
    "version": 3
   },
   "file_extension": ".py",
   "mimetype": "text/x-python",
   "name": "python",
   "nbconvert_exporter": "python",
   "pygments_lexer": "ipython3",
   "version": "3.12.4"
  }
 },
 "nbformat": 4,
 "nbformat_minor": 2
}
