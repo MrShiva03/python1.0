{
 "cells": [
  {
   "cell_type": "markdown",
   "metadata": {},
   "source": [
    "- how  to declare dictionary in different ways \n",
    "- how to access  key and values of dictionary \n",
    "- how to use loop in dictionary\n",
    "- nested dictionary"
   ]
  },
  {
   "cell_type": "code",
   "execution_count": 3,
   "metadata": {},
   "outputs": [
    {
     "name": "stdout",
     "output_type": "stream",
     "text": [
      "{'name': 'shiva', 'class': '12th', 'roll_no': 2, 'age': 17}\n"
     ]
    }
   ],
   "source": [
    "student = {\n",
    "    \"name\" : \"shiva\",\n",
    "    \"class\": \"12th\",\n",
    "    \"roll_no\": 2,\n",
    "    \"age\": 17\n",
    "}\n",
    "print(student)"
   ]
  },
  {
   "cell_type": "code",
   "execution_count": 4,
   "metadata": {},
   "outputs": [
    {
     "name": "stdout",
     "output_type": "stream",
     "text": [
      "{'lucknow': [25, 30, 35], 'delhi': [30, 35, 40], 'chennai': [28, 38, 37]}\n"
     ]
    }
   ],
   "source": [
    "temp = {\n",
    "    'lucknow' : [25,30,35],\n",
    "    'delhi' : [30,35,40],\n",
    "    'chennai' : [28,38,37],\n",
    "}\n",
    "print(temp)"
   ]
  },
  {
   "cell_type": "code",
   "execution_count": 5,
   "metadata": {},
   "outputs": [
    {
     "name": "stdout",
     "output_type": "stream",
     "text": [
      "{'name': 'john', 'age': 17, 'roll_no': 2, 'class_': '12th'}\n"
     ]
    }
   ],
   "source": [
    "info = dict(name = 'john', age = 17, roll_no = 2, class_ = '12th')\n",
    "print(info)"
   ]
  },
  {
   "cell_type": "code",
   "execution_count": 6,
   "metadata": {},
   "outputs": [
    {
     "name": "stdout",
     "output_type": "stream",
     "text": [
      "{'name': 'shiva', 'age': 20, 'roll_no': 2, 'class_': '12'}\n"
     ]
    }
   ],
   "source": [
    "info2 = dict(\n",
    "    name = input(\"enter your name:\"),\n",
    "    age=int(input(\"enter your age:\")),\n",
    "    roll_no=int(input(\"enter your roll_no:\")),\n",
    "    class_=input(\"enter your class:\")\n",
    ")\n",
    "print(info2)"
   ]
  },
  {
   "cell_type": "code",
   "execution_count": 7,
   "metadata": {},
   "outputs": [
    {
     "name": "stdout",
     "output_type": "stream",
     "text": [
      "shiva\n",
      "[25, 30, 35]\n"
     ]
    }
   ],
   "source": [
    "# 1st method to access the value of a key\n",
    "print(student['name'])\n",
    "print(temp['lucknow'])\n"
   ]
  },
  {
   "cell_type": "code",
   "execution_count": 8,
   "metadata": {},
   "outputs": [
    {
     "name": "stdout",
     "output_type": "stream",
     "text": [
      "17\n",
      "2\n"
     ]
    }
   ],
   "source": [
    "# 2nd method to access the value of a key\n",
    "print(student.get('age'))\n",
    "print(info2.get('roll_no'))"
   ]
  },
  {
   "cell_type": "code",
   "execution_count": 9,
   "metadata": {},
   "outputs": [
    {
     "name": "stdout",
     "output_type": "stream",
     "text": [
      "{'name': 'shiva', 'class': '12th', 'roll_no': 2, 'age': 17, 'city': 'lucknow', 'school': 'APS'}\n"
     ]
    }
   ],
   "source": [
    "# To add item in a dictionary\n",
    "student['city'] = 'lucknow'\n",
    "student['school'] = 'APS'\n",
    "print(student)\n"
   ]
  },
  {
   "cell_type": "code",
   "execution_count": 10,
   "metadata": {},
   "outputs": [
    {
     "name": "stdout",
     "output_type": "stream",
     "text": [
      "{'name': 'shiva', 'class': '12th', 'roll_no': 2, 'age': 17, 'city': 'lucknow'}\n"
     ]
    }
   ],
   "source": [
    "# To remove a item in a dictionary\n",
    "student.pop('school')\n",
    "print(student) "
   ]
  },
  {
   "cell_type": "code",
   "execution_count": 11,
   "metadata": {},
   "outputs": [
    {
     "name": "stdout",
     "output_type": "stream",
     "text": [
      "{'name': 'shiva', 'class': '12th', 'age': 17, 'city': 'lucknow'}\n"
     ]
    }
   ],
   "source": [
    "# Using dell method \n",
    "del student['roll_no']\n",
    "print(student)"
   ]
  },
  {
   "cell_type": "code",
   "execution_count": 12,
   "metadata": {},
   "outputs": [
    {
     "name": "stdout",
     "output_type": "stream",
     "text": [
      "name\n",
      "age\n",
      "roll_no\n",
      "class_\n"
     ]
    }
   ],
   "source": [
    "for k in info:\n",
    "    print(k)"
   ]
  },
  {
   "cell_type": "code",
   "execution_count": 13,
   "metadata": {},
   "outputs": [
    {
     "name": "stdout",
     "output_type": "stream",
     "text": [
      "name : shiva\n",
      "age : 20\n",
      "roll_no : 2\n",
      "class_ : 12\n"
     ]
    }
   ],
   "source": [
    "for k,v in info2.items():\n",
    "    print(f\"{k} : {v}\")"
   ]
  },
  {
   "cell_type": "code",
   "execution_count": 14,
   "metadata": {},
   "outputs": [
    {
     "name": "stdout",
     "output_type": "stream",
     "text": [
      "dict_values(['shiva', '12th', 17, 'lucknow'])\n",
      "dict_keys(['name', 'class', 'age', 'city'])\n",
      "dict_items([('name', 'shiva'), ('class', '12th'), ('age', 17), ('city', 'lucknow')])\n"
     ]
    }
   ],
   "source": [
    "print(student.values())\n",
    "print(student.keys())\n",
    "print(student.items())"
   ]
  },
  {
   "cell_type": "code",
   "execution_count": 15,
   "metadata": {},
   "outputs": [
    {
     "name": "stdout",
     "output_type": "stream",
     "text": [
      "{'emp001': {'name': 'john', 'age': 25, 'dept': 'HR', 'salary': 250000}, 'emp002': {'name': 'Emma', 'age': 30, 'dept': 'Finance', 'salary': 300000}, 'emp003': {'name': 'Linda', 'age': 35, 'dept': 'IT', 'salary': 350000}, 'emp004': {'name': 'ayushi', 'age': 40, 'dept': 'Admin', 'salary': 400000}}\n"
     ]
    }
   ],
   "source": [
    "company = {\n",
    "    'emp001' : {'name':'john', 'age':25, 'dept':'HR', 'salary':250000},\n",
    "    'emp002' : {'name':'Emma', 'age':30, 'dept':'Finance', 'salary':300000},\n",
    "    'emp003' : {'name':'Linda', 'age':35, 'dept':'IT', 'salary':350000},\n",
    "    'emp004' : {'name':'ayushi', 'age':40, 'dept':'Admin', 'salary':400000},\n",
    "}\n",
    "print(company)"
   ]
  },
  {
   "cell_type": "code",
   "execution_count": 16,
   "metadata": {},
   "outputs": [],
   "source": [
    "from pprint import pp"
   ]
  },
  {
   "cell_type": "code",
   "execution_count": 17,
   "metadata": {},
   "outputs": [
    {
     "name": "stdout",
     "output_type": "stream",
     "text": [
      "{'emp001': {'name': 'john', 'age': 25, 'dept': 'HR', 'salary': 250000},\n",
      " 'emp002': {'name': 'Emma', 'age': 30, 'dept': 'Finance', 'salary': 300000},\n",
      " 'emp003': {'name': 'Linda', 'age': 35, 'dept': 'IT', 'salary': 350000},\n",
      " 'emp004': {'name': 'ayushi', 'age': 40, 'dept': 'Admin', 'salary': 400000}}\n"
     ]
    }
   ],
   "source": [
    "pp(company)"
   ]
  },
  {
   "cell_type": "code",
   "execution_count": 18,
   "metadata": {},
   "outputs": [
    {
     "name": "stdout",
     "output_type": "stream",
     "text": [
      "{'name': 'Emma', 'age': 30, 'dept': 'Finance', 'salary': 300000}\n"
     ]
    }
   ],
   "source": [
    "print(company['emp002'])"
   ]
  },
  {
   "cell_type": "code",
   "execution_count": 19,
   "metadata": {},
   "outputs": [
    {
     "name": "stdout",
     "output_type": "stream",
     "text": [
      "Finance\n"
     ]
    }
   ],
   "source": [
    "print(company['emp002']['dept'])"
   ]
  },
  {
   "cell_type": "code",
   "execution_count": 20,
   "metadata": {},
   "outputs": [
    {
     "name": "stdout",
     "output_type": "stream",
     "text": [
      "40\n"
     ]
    }
   ],
   "source": [
    "print(company['emp004']['age'])"
   ]
  },
  {
   "cell_type": "code",
   "execution_count": 21,
   "metadata": {},
   "outputs": [
    {
     "name": "stdout",
     "output_type": "stream",
     "text": [
      "{'emp001': {'name': 'john', 'age': 25, 'dept': 'HR', 'salary': 250000},\n",
      " 'emp002': {'name': 'Emma', 'age': 30, 'dept': 'Finance', 'salary': 300000},\n",
      " 'emp003': {'name': 'Linda', 'age': 35, 'dept': 'IT', 'salary': 350000},\n",
      " 'emp004': {'name': 'ayushi', 'age': 40, 'dept': 'Admin', 'salary': 400000},\n",
      " 'emp005': {'name': 'shivam', 'age': 50, 'dept': 'Cuatomer', 'salary': 450000}}\n"
     ]
    }
   ],
   "source": [
    "company['emp005']={'name': 'shivam', 'age': 50, 'dept': 'Cuatomer', 'salary': 450000}\n",
    "pp(company)"
   ]
  },
  {
   "cell_type": "code",
   "execution_count": 22,
   "metadata": {},
   "outputs": [
    {
     "name": "stdout",
     "output_type": "stream",
     "text": [
      "25\n",
      "40\n"
     ]
    }
   ],
   "source": [
    "# indexing in dictionary\n",
    "print(temp['lucknow'][0])\n",
    "print(temp['delhi'][2])"
   ]
  },
  {
   "cell_type": "code",
   "execution_count": 23,
   "metadata": {},
   "outputs": [
    {
     "name": "stdout",
     "output_type": "stream",
     "text": [
      "average temp in delhi is: 35.0\n"
     ]
    }
   ],
   "source": [
    "print(\"average temp in delhi is:\", sum(temp['delhi'])/len(temp['delhi']))"
   ]
  }
 ],
 "metadata": {
  "kernelspec": {
   "display_name": "base",
   "language": "python",
   "name": "python3"
  },
  "language_info": {
   "codemirror_mode": {
    "name": "ipython",
    "version": 3
   },
   "file_extension": ".py",
   "mimetype": "text/x-python",
   "name": "python",
   "nbconvert_exporter": "python",
   "pygments_lexer": "ipython3",
   "version": "3.12.4"
  }
 },
 "nbformat": 4,
 "nbformat_minor": 2
}
