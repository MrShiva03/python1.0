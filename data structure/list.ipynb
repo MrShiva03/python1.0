{
 "cells": [
  {
   "cell_type": "code",
   "execution_count": 5,
   "metadata": {},
   "outputs": [
    {
     "name": "stdout",
     "output_type": "stream",
     "text": [
      "['google', 'chrome', 'drive', 'swiggy', 'zomato', 'uber', 'ola', 'rapido', 'whatsup', 'instagram', 'facebook', 'twitter', 'tik tok']\n"
     ]
    }
   ],
   "source": [
    "apps = ['google','chrome','drive','swiggy','zomato','uber','ola','rapido','whatsup','instagram','facebook','twitter','tik tok']\n",
    "print(apps)\n"
   ]
  },
  {
   "cell_type": "code",
   "execution_count": 6,
   "metadata": {},
   "outputs": [
    {
     "name": "stdout",
     "output_type": "stream",
     "text": [
      "uber\n",
      "ola\n",
      "instagram\n"
     ]
    }
   ],
   "source": [
    "print(apps[5])\n",
    "print(apps[6])\n",
    "print(apps[9])"
   ]
  },
  {
   "cell_type": "code",
   "execution_count": 7,
   "metadata": {},
   "outputs": [
    {
     "name": "stdout",
     "output_type": "stream",
     "text": [
      "whatsup\n",
      "['uber', 'ola', 'rapido', 'whatsup', 'instagram']\n",
      "['chrome', 'drive', 'swiggy', 'zomato', 'uber']\n"
     ]
    },
    {
     "data": {
      "text/plain": [
       "13"
      ]
     },
     "execution_count": 7,
     "metadata": {},
     "output_type": "execute_result"
    }
   ],
   "source": [
    "print(apps[-5])\n",
    "print(apps[5:10])\n",
    "print(apps[1:6])\n",
    "len(apps)"
   ]
  },
  {
   "cell_type": "code",
   "execution_count": 11,
   "metadata": {},
   "outputs": [
    {
     "name": "stdout",
     "output_type": "stream",
     "text": [
      "['drive', 'swiggy', 'zomato', 'uber', 'ola', 'rapido']\n",
      "['drive', 'zomato', 'ola', 'whatsup']\n"
     ]
    }
   ],
   "source": [
    "print(apps[2:8])\n",
    "print(apps[2:9:2])"
   ]
  },
  {
   "cell_type": "code",
   "execution_count": 3,
   "metadata": {},
   "outputs": [
    {
     "name": "stdout",
     "output_type": "stream",
     "text": [
      "['drive', 'zomato', 'ola', 'whatsup']\n"
     ]
    }
   ],
   "source": [
    "print(apps[2:10:2])"
   ]
  },
  {
   "cell_type": "code",
   "execution_count": 7,
   "metadata": {},
   "outputs": [
    {
     "name": "stdout",
     "output_type": "stream",
     "text": [
      "['swiggy', 'zomato', 'uber', 'ola', 'rapido', 'whatsup', 'instagram', 'facebook', 'twitter', 'tik tok']\n"
     ]
    }
   ],
   "source": [
    "print(apps[3:])"
   ]
  },
  {
   "cell_type": "markdown",
   "metadata": {},
   "source": [
    "## methods\n",
    "-append \n",
    "-insert\n",
    "-pop\n",
    "-remove\n",
    "-copy\n",
    "-extend\n",
    "-clear\n",
    "-sort"
   ]
  },
  {
   "cell_type": "code",
   "execution_count": 8,
   "metadata": {},
   "outputs": [
    {
     "name": "stdout",
     "output_type": "stream",
     "text": [
      "['google', 'chrome', 'drive', 'swiggy', 'zomato', 'uber', 'ola', 'rapido', 'whatsup', 'instagram', 'facebook', 'twitter', 'tik tok']\n"
     ]
    }
   ],
   "source": [
    "print(apps)"
   ]
  },
  {
   "cell_type": "code",
   "execution_count": 10,
   "metadata": {},
   "outputs": [
    {
     "name": "stdout",
     "output_type": "stream",
     "text": [
      "['google', 'chrome', 'drive', 'swiggy', 'zomato', 'uber', 'ola', 'rapido', 'whatsup', 'instagram', 'facebook', 'twitter', 'tik tok']\n"
     ]
    }
   ],
   "source": [
    "apps2 = apps.copy()\n",
    "print(apps2)"
   ]
  },
  {
   "cell_type": "code",
   "execution_count": 11,
   "metadata": {},
   "outputs": [
    {
     "name": "stdout",
     "output_type": "stream",
     "text": [
      "['google', 'chrome', 'drive', 'swiggy', 'zomato', 'uber', 'ola', 'rapido', 'whatsup', 'instagram', 'facebook', 'twitter', 'tik tok', 'snapchat']\n"
     ]
    }
   ],
   "source": [
    "apps.append('snapchat')\n",
    "print(apps)"
   ]
  },
  {
   "cell_type": "code",
   "execution_count": 14,
   "metadata": {},
   "outputs": [
    {
     "name": "stdout",
     "output_type": "stream",
     "text": [
      "['google', 'chrome', 'drive', 'jadu', 'swiggy', 'zomato', 'uber', 'ola', 'rapido', 'whatsup', 'instagram', 'facebook', 'twitter', 'tik tok', 'snapchat']\n"
     ]
    }
   ],
   "source": [
    "apps.insert(3,'jadu')\n",
    "print(apps)"
   ]
  },
  {
   "cell_type": "code",
   "execution_count": 15,
   "metadata": {},
   "outputs": [
    {
     "name": "stdout",
     "output_type": "stream",
     "text": [
      "['google', 'chrome', 'drive', 'jadu', 'swiggy', 'zomato', 'uber', 'ola', 'rapido', 'whatsup', 'instagram', 'facebook', 'twitter', 'tik tok']\n"
     ]
    }
   ],
   "source": [
    "apps.pop(-1)\n",
    "print(apps)"
   ]
  },
  {
   "cell_type": "code",
   "execution_count": 16,
   "metadata": {},
   "outputs": [
    {
     "name": "stdout",
     "output_type": "stream",
     "text": [
      "['google', 'chrome', 'drive', 'jadu', 'swiggy', 'zomato', 'uber', 'ola', 'rapido', 'instagram', 'facebook', 'twitter', 'tik tok']\n"
     ]
    }
   ],
   "source": [
    "apps.remove('whatsup')\n",
    "print(apps)\n"
   ]
  },
  {
   "cell_type": "code",
   "execution_count": 18,
   "metadata": {},
   "outputs": [
    {
     "name": "stdout",
     "output_type": "stream",
     "text": [
      "['google', 'chrome', 'drive', 'jadu', 'swiggy', 'zomato', 'whatsup', 'uber', 'ola', 'rapido', 'instagram', 'facebook', 'twitter', 'tik tok']\n"
     ]
    }
   ],
   "source": [
    "apps.insert(6,'whatsup')\n",
    "print(apps)"
   ]
  },
  {
   "cell_type": "code",
   "execution_count": 20,
   "metadata": {},
   "outputs": [
    {
     "name": "stdout",
     "output_type": "stream",
     "text": [
      "['google', 'chrome', 'drive', 'jadu', 'swiggy', 'zomato', 'whatsup', 'uber', 'ola', 'rapido', 'instagram', 'facebook', 'twitter', 'tik tok', 'snapchat', 'snapchat']\n"
     ]
    }
   ],
   "source": [
    "apps.append('snapchat')\n",
    "print(apps)"
   ]
  },
  {
   "cell_type": "code",
   "execution_count": 21,
   "metadata": {},
   "outputs": [
    {
     "name": "stdout",
     "output_type": "stream",
     "text": [
      "['chrome', 'drive', 'facebook', 'google', 'instagram', 'jadu', 'ola', 'rapido', 'snapchat', 'snapchat', 'swiggy', 'tik tok', 'twitter', 'uber', 'whatsup', 'zomato']\n"
     ]
    }
   ],
   "source": [
    "apps.sort()\n",
    "print(apps)"
   ]
  },
  {
   "cell_type": "code",
   "execution_count": 22,
   "metadata": {},
   "outputs": [
    {
     "name": "stdout",
     "output_type": "stream",
     "text": [
      "[1, 2, 3]\n"
     ]
    }
   ],
   "source": [
    "a = [1,2,3]\n",
    "print(a)"
   ]
  },
  {
   "cell_type": "code",
   "execution_count": 23,
   "metadata": {},
   "outputs": [
    {
     "name": "stdout",
     "output_type": "stream",
     "text": [
      "['chrome', 'drive', 'facebook', 'google', 'instagram', 'jadu', 'ola', 'rapido', 'snapchat', 'snapchat', 'swiggy', 'tik tok', 'twitter', 'uber', 'whatsup', 'zomato', 1, 2, 3]\n"
     ]
    }
   ],
   "source": [
    "apps.extend(a)\n",
    "print(apps)"
   ]
  },
  {
   "cell_type": "code",
   "execution_count": 24,
   "metadata": {},
   "outputs": [
    {
     "name": "stdout",
     "output_type": "stream",
     "text": [
      "[]\n"
     ]
    }
   ],
   "source": [
    "\n",
    "apps2.clear()\n",
    "print(apps2)"
   ]
  },
  {
   "cell_type": "code",
   "execution_count": 26,
   "metadata": {},
   "outputs": [
    {
     "name": "stdout",
     "output_type": "stream",
     "text": [
      "[]\n"
     ]
    }
   ],
   "source": [
    "a.clear()\n",
    "print(a)"
   ]
  },
  {
   "cell_type": "code",
   "execution_count": null,
   "metadata": {},
   "outputs": [],
   "source": []
  }
 ],
 "metadata": {
  "kernelspec": {
   "display_name": "base",
   "language": "python",
   "name": "python3"
  },
  "language_info": {
   "codemirror_mode": {
    "name": "ipython",
    "version": 3
   },
   "file_extension": ".py",
   "mimetype": "text/x-python",
   "name": "python",
   "nbconvert_exporter": "python",
   "pygments_lexer": "ipython3",
   "version": "3.12.4"
  }
 },
 "nbformat": 4,
 "nbformat_minor": 2
}
