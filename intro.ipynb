{
 "cells": [
  {
   "cell_type": "code",
   "execution_count": 1,
   "metadata": {},
   "outputs": [
    {
     "name": "stdout",
     "output_type": "stream",
     "text": [
      "hello world\n"
     ]
    }
   ],
   "source": [
    "print(\"hello world\")"
   ]
  },
  {
   "cell_type": "code",
   "execution_count": 2,
   "metadata": {},
   "outputs": [],
   "source": [
    "a = 10"
   ]
  },
  {
   "cell_type": "code",
   "execution_count": 1,
   "metadata": {},
   "outputs": [
    {
     "data": {
      "text/plain": [
       "False"
      ]
     },
     "execution_count": 1,
     "metadata": {},
     "output_type": "execute_result"
    }
   ],
   "source": [
    "fruits = ['apple''orange''banana']\n",
    "'mango' in fruits\n"
   ]
  },
  {
   "cell_type": "markdown",
   "metadata": {},
   "source": [
    "## condition"
   ]
  },
  {
   "cell_type": "markdown",
   "metadata": {},
   "source": [
    "###if, elif, if else, nested if"
   ]
  },
  {
   "cell_type": "code",
   "execution_count": 5,
   "metadata": {},
   "outputs": [
    {
     "name": "stdout",
     "output_type": "stream",
     "text": [
      "A+\n",
      "A\n",
      "B\n",
      "C\n",
      "FAIL\n"
     ]
    }
   ],
   "source": [
    "marks = 95\n",
    "if marks >=90:\n",
    "    print('A+')\n",
    "if marks >=80:\n",
    "    print('A')\n",
    "if marks >=70:\n",
    "    print('B')\n",
    "if marks >=60:\n",
    "    print('C')\n",
    "if marks >=50:\n",
    "    print('FAIL')\n"
   ]
  },
  {
   "cell_type": "code",
   "execution_count": 3,
   "metadata": {},
   "outputs": [
    {
     "name": "stdout",
     "output_type": "stream",
     "text": [
      "A+\n"
     ]
    }
   ],
   "source": [
    "marks = 95\n",
    "if marks >=90:\n",
    "    print('A+')\n",
    "elif marks >=80:\n",
    "    print('A')\n",
    "elif marks >=70:\n",
    "    print('B')\n",
    "elif marks >=60:\n",
    "    print('C')\n",
    "elif marks >=50:\n",
    "    print('FAIL')\n",
    "else:\n",
    "    print('Invalid marks')\n",
    "\n"
   ]
  },
  {
   "cell_type": "code",
   "execution_count": 14,
   "metadata": {},
   "outputs": [
    {
     "name": "stdout",
     "output_type": "stream",
     "text": [
      "isosceles tringle\n"
     ]
    }
   ],
   "source": [
    "a = 10\n",
    "b = 15\n",
    "c = 15\n",
    "if a == b == c :\n",
    "    print(\"it is equivalent tringle\")\n",
    "if(a==b or b==c or c==a):\n",
    "    print(\"isosceles tringle\")\n",
    "else:    \n",
    "    print(\"it is scalene\")   \n",
    "\n"
   ]
  },
  {
   "cell_type": "code",
   "execution_count": 15,
   "metadata": {},
   "outputs": [
    {
     "name": "stdout",
     "output_type": "stream",
     "text": [
      "consonent\n"
     ]
    }
   ],
   "source": [
    "char = input('Enter a character: ')\n",
    "if char=='a' or char=='e' or char=='i' or char=='o' or char=='u':\n",
    "    print('vovel')\n",
    "else:\n",
    "    print('consonent')"
   ]
  },
  {
   "cell_type": "code",
   "execution_count": 1,
   "metadata": {},
   "outputs": [
    {
     "name": "stdout",
     "output_type": "stream",
     "text": [
      "registration successful😁\n"
     ]
    }
   ],
   "source": [
    "username = input('enter username: ')\n",
    "email = input('enter email: ')\n",
    "password = input('enter password: ')\n",
    "cpass = input('enter confirm password: ')\n",
    "if len(username)>5 and len('username')<15:\n",
    "    if '@' in email and len('username')<=20:\n",
    "        if len(password)>=6 and len('password')<=15:\n",
    "            if password==cpass:\n",
    "                print('registration successful😁')\n",
    "            else:\n",
    "                print('password mismatch😂')\n",
    "        else:\n",
    "            print('invalid password😒')\n",
    "    else:\n",
    "        print('nvalid email🤦‍♀️')\n",
    "else:\n",
    "    print('invalid username😎')"
   ]
  },
  {
   "cell_type": "code",
   "execution_count": 1,
   "metadata": {},
   "outputs": [
    {
     "name": "stdout",
     "output_type": "stream",
     "text": [
      "1\n",
      "2\n",
      "3\n",
      "4\n",
      "5\n",
      "6\n",
      "7\n",
      "8\n",
      "9\n",
      "10\n"
     ]
    }
   ],
   "source": [
    "for i in range (1,11):\n",
    "    print (i)   "
   ]
  },
  {
   "cell_type": "code",
   "execution_count": 3,
   "metadata": {},
   "outputs": [
    {
     "name": "stdout",
     "output_type": "stream",
     "text": [
      "The sum of all even numbers between 1 and 100 is: 2450\n"
     ]
    }
   ],
   "source": [
    "even_sum = 0\n",
    "for i in range (1,100):\n",
    "    if i % 2 == 0:\n",
    "        even_sum += i\n",
    "print(\"The sum of all even numbers between 1 and 100 is:\", even_sum)"
   ]
  },
  {
   "cell_type": "code",
   "execution_count": 5,
   "metadata": {},
   "outputs": [
    {
     "name": "stdout",
     "output_type": "stream",
     "text": [
      "0\n",
      "2\n",
      "4\n",
      "6\n",
      "8\n",
      "10\n",
      "12\n",
      "14\n",
      "16\n",
      "18\n",
      "20\n"
     ]
    }
   ],
   "source": [
    "for i in range (0,21):\n",
    "    if i %2 ==0:\n",
    "        print(i)"
   ]
  },
  {
   "cell_type": "code",
   "execution_count": 8,
   "metadata": {},
   "outputs": [
    {
     "name": "stdout",
     "output_type": "stream",
     "text": [
      "sum of integer from 1 and 100 is 5050\n"
     ]
    }
   ],
   "source": [
    "# sum of integer\n",
    "sum = 0\n",
    "for i in range (1,101):\n",
    "    sum = sum + i\n",
    "print(\"sum of integer from 1 and 100 is\",sum)"
   ]
  },
  {
   "cell_type": "code",
   "execution_count": 9,
   "metadata": {},
   "outputs": [
    {
     "name": "stdout",
     "output_type": "stream",
     "text": [
      "2\n",
      "4\n",
      "6\n",
      "8\n",
      "10\n",
      "12\n",
      "14\n",
      "16\n",
      "18\n",
      "20\n"
     ]
    }
   ],
   "source": [
    "sum = 0 \n",
    "for i in range(1,21):\n",
    "    if i%2 == 0:\n",
    "        print (i)"
   ]
  },
  {
   "cell_type": "code",
   "execution_count": null,
   "metadata": {},
   "outputs": [],
   "source": []
  }
 ],
 "metadata": {
  "kernelspec": {
   "display_name": "base",
   "language": "python",
   "name": "python3"
  },
  "language_info": {
   "codemirror_mode": {
    "name": "ipython",
    "version": 3
   },
   "file_extension": ".py",
   "mimetype": "text/x-python",
   "name": "python",
   "nbconvert_exporter": "python",
   "pygments_lexer": "ipython3",
   "version": "3.12.4"
  }
 },
 "nbformat": 4,
 "nbformat_minor": 2
}
